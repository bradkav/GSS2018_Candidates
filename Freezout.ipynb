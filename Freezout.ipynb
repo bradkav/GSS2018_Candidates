{
 "cells": [
  {
   "cell_type": "markdown",
   "metadata": {},
   "source": [
    "# Thermal Freezeout\n",
    "\n",
    "Beginning with the equation describing the Hubble constant as a function of the temperature,\n",
    "$$\n",
    "H(T) = \\frac{\\pi}{3}\\left(\\frac{g_*}{10} \\right)^{1/2} \\frac{T^2}{M_{pl}}\n",
    "$$\n",
    "where $M_{pl}$ is the Planck mass, $g_*$ are the effective degrees of freedom and $T$ is the temperature. The form of $g_*$ is\n",
    "$$\n",
    "g_* = \\sum_{i = b} g_i + \\frac{7}{8}\\sum_{i=f} g_i\n",
    "$$\n",
    "where we are summing over the degrees of freedom of particles which have not decoupled from photons. When $T$ drops below $m_i$, the species $i$ will no longer be included in the sum."
   ]
  },
  {
   "cell_type": "code",
   "execution_count": 2,
   "metadata": {
    "collapsed": true
   },
   "outputs": [],
   "source": [
    "#LETS START ! \n"
   ]
  },
  {
   "cell_type": "markdown",
   "metadata": {
    "collapsed": true
   },
   "source": [
    "### instantaneous freeze-out approximation, write a solver which determines the freeze-out temperature for hot dark matter\n",
    "\n",
    "We know that species will freeze-out when $\\Gamma \\sim H$, the rate of reaction is approximately equal to the Hubble constant."
   ]
  },
  {
   "cell_type": "code",
   "execution_count": null,
   "metadata": {
    "collapsed": true
   },
   "outputs": [],
   "source": []
  }
 ],
 "metadata": {
  "kernelspec": {
   "display_name": "Python 3",
   "language": "python",
   "name": "python3"
  },
  "language_info": {
   "codemirror_mode": {
    "name": "ipython",
    "version": 3
   },
   "file_extension": ".py",
   "mimetype": "text/x-python",
   "name": "python",
   "nbconvert_exporter": "python",
   "pygments_lexer": "ipython3",
   "version": "3.6.5"
  }
 },
 "nbformat": 4,
 "nbformat_minor": 2
}
